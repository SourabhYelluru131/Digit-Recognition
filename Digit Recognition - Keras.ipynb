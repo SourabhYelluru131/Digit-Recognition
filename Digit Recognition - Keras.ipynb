{
 "cells": [
  {
   "cell_type": "code",
   "execution_count": 1,
   "metadata": {},
   "outputs": [
    {
     "name": "stderr",
     "output_type": "stream",
     "text": [
      "Using TensorFlow backend.\n"
     ]
    },
    {
     "data": {
      "image/png": "[encoded data removed]",
      "text/plain": [
       "<Figure size 432x288 with 4 Axes>"
      ]
     },
     "metadata": {
      "needs_background": "light"
     },
     "output_type": "display_data"
    }
   ],
   "source": [
    "from keras.datasets import mnist\n",
    "import matplotlib.pyplot as plt\n",
    "\n",
    "# load (downloaded if needed) the MNIST dataset\n",
    "(X_train, y_train), (X_test, y_test) = mnist.load_data()\n",
    "\n",
    "# plot first 4 images as gray scale\n",
    "plt.subplot(221)\n",
    "plt.imshow(X_train[1], cmap=plt.get_cmap('gray'))\n",
    "plt.subplot(222)\n",
    "plt.imshow(X_train[2], cmap=plt.get_cmap('gray'))\n",
    "plt.subplot(223)\n",
    "plt.imshow(X_train[3], cmap=plt.get_cmap('gray'))\n",
    "plt.subplot(224)\n",
    "plt.imshow(X_train[4], cmap=plt.get_cmap('gray'))\n",
    "# show the plot\n",
    "plt.show()"
   ]
  },
  {
   "cell_type": "code",
   "execution_count": 2,
   "metadata": {},
   "outputs": [
    {
     "name": "stdout",
     "output_type": "stream",
     "text": [
      "4\n"
     ]
    },
    {
     "data": {
      "image/png": "[encoded data removed]",
      "text/plain": [
       "<Figure size 432x288 with 1 Axes>"
      ]
     },
     "metadata": {
      "needs_background": "light"
     },
     "output_type": "display_data"
    }
   ],
   "source": [
    "image_index = 2\n",
    "print(y_train[image_index])\n",
    "plt.imshow(X_train[image_index], cmap=plt.get_cmap('gray'))\n",
    "plt.show()"
   ]
  },
  {
   "cell_type": "code",
   "execution_count": 3,
   "metadata": {},
   "outputs": [],
   "source": [
    "# save input image dimensions\n",
    "img_rows, img_cols = 28, 28\n",
    "\n",
    "X_train = X_train.reshape(X_train.shape[0], img_rows, img_cols, 1)\n",
    "X_test = X_test.reshape(X_test.shape[0], img_rows, img_cols, 1)\n",
    "X_train = X_train.astype('float32')\n",
    "X_test = X_test.astype('float32')\n",
    "X_train /= 255\n",
    "X_test /= 255\n",
    "\n",
    "from keras.utils import to_categorical\n",
    "num_classes = 10\n",
    "\n",
    "y_train = to_categorical(y_train, num_classes)\n",
    "y_test = to_categorical(y_test, num_classes)"
   ]
  },
  {
   "cell_type": "code",
   "execution_count": 4,
   "metadata": {},
   "outputs": [],
   "source": [
    "from keras.models import Sequential\n",
    "from keras.layers import Dense, Dropout, Flatten, Conv2D, MaxPooling2D\n",
    "\n",
    "model = Sequential()\n",
    "\n",
    "#Adding convolutional layer\n",
    "model.add(Conv2D(32, kernel_size=(3, 3),\n",
    "     activation='relu',\n",
    "     input_shape=(img_rows, img_cols, 1)))\n",
    "model.add(Conv2D(64, (3, 3), activation='relu'))\n",
    "model.add(MaxPooling2D(pool_size=(2, 2)))\n",
    "\n",
    "#Drop out 25% of the units to avoid overfitting\n",
    "model.add(Dropout(0.25))\n",
    "\n",
    "#Convert into 1-D array\n",
    "model.add(Flatten())\n",
    "\n",
    "model.add(Dense(128, activation='relu'))\n",
    "model.add(Dropout(0.5))\n",
    "model.add(Dense(num_classes, activation='softmax'))\n",
    "\n",
    "model.compile(loss='categorical_crossentropy',\n",
    "      optimizer='adam',\n",
    "      metrics=['accuracy'])"
   ]
  },
  {
   "cell_type": "code",
   "execution_count": 5,
   "metadata": {},
   "outputs": [
    {
     "name": "stdout",
     "output_type": "stream",
     "text": [
      "Train on 60000 samples, validate on 10000 samples\n",
      "Epoch 1/10\n",
      "60000/60000 [==============================] - 49s 809us/step - loss: 0.2273 - accuracy: 0.9301 - val_loss: 0.0495 - val_accuracy: 0.9835\n",
      "Epoch 2/10\n",
      "60000/60000 [==============================] - 50s 827us/step - loss: 0.0816 - accuracy: 0.9748 - val_loss: 0.0389 - val_accuracy: 0.9873\n",
      "Epoch 3/10\n",
      "60000/60000 [==============================] - 49s 815us/step - loss: 0.0610 - accuracy: 0.9810 - val_loss: 0.0345 - val_accuracy: 0.9884\n",
      "Epoch 4/10\n",
      "60000/60000 [==============================] - 48s 799us/step - loss: 0.0497 - accuracy: 0.9846 - val_loss: 0.0333 - val_accuracy: 0.9899\n",
      "Epoch 5/10\n",
      "60000/60000 [==============================] - 48s 798us/step - loss: 0.0434 - accuracy: 0.9862 - val_loss: 0.0297 - val_accuracy: 0.9912\n",
      "Epoch 6/10\n",
      "60000/60000 [==============================] - 49s 820us/step - loss: 0.0368 - accuracy: 0.9885 - val_loss: 0.0279 - val_accuracy: 0.9916\n",
      "Epoch 7/10\n",
      "60000/60000 [==============================] - 50s 829us/step - loss: 0.0351 - accuracy: 0.9889 - val_loss: 0.0304 - val_accuracy: 0.9897\n",
      "Epoch 8/10\n",
      "60000/60000 [==============================] - 49s 812us/step - loss: 0.0295 - accuracy: 0.9904 - val_loss: 0.0261 - val_accuracy: 0.9926\n",
      "Epoch 9/10\n",
      "60000/60000 [==============================] - 50s 828us/step - loss: 0.0284 - accuracy: 0.9910 - val_loss: 0.0254 - val_accuracy: 0.9923\n",
      "Epoch 10/10\n",
      "60000/60000 [==============================] - 50s 839us/step - loss: 0.0252 - accuracy: 0.9918 - val_loss: 0.0249 - val_accuracy: 0.9928\n",
      "Test loss: 0.024854892610939306\n",
      "Test accuracy: 0.9927999973297119\n"
     ]
    }
   ],
   "source": [
    "batch_size = 128\n",
    "epochs = 10\n",
    "\n",
    "model.fit(X_train, y_train,\n",
    "          batch_size=batch_size,\n",
    "          epochs=epochs,\n",
    "          verbose=1,\n",
    "          validation_data=(X_test, y_test))\n",
    "score = model.evaluate(X_test, y_test, verbose=0)\n",
    "print('Test loss:', score[0])\n",
    "print('Test accuracy:', score[1])\n",
    "model.save(\"test_model.h5\")"
   ]
  },
  {
   "cell_type": "code",
   "execution_count": null,
   "metadata": {},
   "outputs": [],
   "source": []
  }
 ],
 "metadata": {
  "kernelspec": {
   "display_name": "Python 3",
   "language": "python",
   "name": "python3"
  },
  "language_info": {
   "codemirror_mode": {
    "name": "ipython",
    "version": 3
   },
   "file_extension": ".py",
   "mimetype": "text/x-python",
   "name": "python",
   "nbconvert_exporter": "python",
   "pygments_lexer": "ipython3",
   "version": "3.7.3"
  }
 },
 "nbformat": 4,
 "nbformat_minor": 2
}
